{
 "cells": [
  {
   "cell_type": "code",
   "execution_count": 6,
   "metadata": {},
   "outputs": [],
   "source": [
    "import pandas as pd\n",
    "import numpy as np\n",
    "import matplotlib.pyplot as plt"
   ]
  },
  {
   "cell_type": "code",
   "execution_count": 5,
   "metadata": {},
   "outputs": [],
   "source": [
    "# Load the training data from CSV\n",
    "train_df = pd.read_csv('../data/mnist_train.csv')\n",
    "\n",
    "# Separate features and labels\n",
    "X_train_flat = train_df.drop('label', axis=1).values  # All columns except 'label'\n",
    "y_train = train_df['label'].values  # 'label' column\n",
    "\n",
    "# Load the test data from CSV\n",
    "test_df = pd.read_csv('../data/mnist_test.csv')\n",
    "\n",
    "# Separate features and labels\n",
    "X_test_flat = test_df.drop('label', axis=1).values  # All columns except 'label'\n",
    "y_test = test_df['label'].values  # 'label' column\n",
    "\n",
    "# Reshape the images back to 28x28\n",
    "X_train = X_train_flat.reshape(X_train_flat.shape[0], 28, 28)\n",
    "X_test = X_test_flat.reshape(X_test_flat.shape[0], 28, 28)\n"
   ]
  },
  {
   "cell_type": "code",
   "execution_count": 9,
   "metadata": {},
   "outputs": [
    {
     "data": {
      "text/plain": [
       "<matplotlib.image.AxesImage at 0x27ed9708940>"
      ]
     },
     "execution_count": 9,
     "metadata": {},
     "output_type": "execute_result"
    },
    {
     "data": {
      "image/png": "[encoded data removed]",
      "text/plain": [
       "<Figure size 640x480 with 1 Axes>"
      ]
     },
     "metadata": {},
     "output_type": "display_data"
    }
   ],
   "source": [
    "plt.imshow(X_train[1], cmap=plt.cm.binary)"
   ]
  },
  {
   "cell_type": "code",
   "execution_count": 10,
   "metadata": {},
   "outputs": [
    {
     "name": "stdout",
     "output_type": "stream",
     "text": [
      "The images present in the Training Dataset are: 60000, and the images present in the Testing Dataset are: 10000\n",
      "The shape of  images are: (28, 28)\n"
     ]
    }
   ],
   "source": [
    "print(f\"The images present in the Training Dataset are: {len(X_train)}, and the images present in the Testing Dataset are: {len(X_test)}\")\n",
    "print(f\"The shape of  images are: {X_train[0].shape}\")"
   ]
  },
  {
   "cell_type": "code",
   "execution_count": 11,
   "metadata": {},
   "outputs": [],
   "source": [
    "import numpy as np\n",
    "import pandas as pd\n",
    "import matplotlib.pyplot as plt\n",
    "from PIL import Image\n",
    "import tensorflow as tf\n",
    "\n",
    "\n"
   ]
  },
  {
   "cell_type": "code",
   "execution_count": 47,
   "metadata": {},
   "outputs": [
    {
     "name": "stderr",
     "output_type": "stream",
     "text": [
      "WARNING:absl:Compiled the loaded model, but the compiled metrics have yet to be built. `model.compile_metrics` will be empty until you train or evaluate the model.\n"
     ]
    }
   ],
   "source": [
    "# Load the trained model\n",
    "model = tf.keras.models.load_model('../models/model.h5')  # Adjust the path as necessary\n"
   ]
  },
  {
   "cell_type": "code",
   "execution_count": 52,
   "metadata": {},
   "outputs": [
    {
     "data": {
      "image/png": "[encoded data removed]",
      "text/plain": [
       "<Figure size 640x480 with 1 Axes>"
      ]
     },
     "metadata": {},
     "output_type": "display_data"
    }
   ],
   "source": [
    "\n",
    "# Load the drawn digit image\n",
    "img_path = '../data/digit.png'  # Adjust the filename if necessary\n",
    "img = Image.open(img_path).convert(\"L\")  # Load the image in grayscale\n",
    "\n",
    "# Display the loaded image\n",
    "plt.imshow(img, cmap='gray')\n",
    "plt.title(\"Loaded Image\")\n",
    "plt.axis('off')\n",
    "plt.show()\n",
    "\n"
   ]
  },
  {
   "cell_type": "code",
   "execution_count": 53,
   "metadata": {},
   "outputs": [],
   "source": [
    "# Preprocess the image\n",
    "img_resized = img.resize((28, 28))  # Resize to 28x28\n",
    "img_inverted = np.invert(np.array(img_resized))  # Invert colors (black to white and vice versa)\n",
    "img_normalized = img_inverted / 255.0  # Normalize to [0, 1]\n",
    "\n"
   ]
  },
  {
   "cell_type": "code",
   "execution_count": 54,
   "metadata": {},
   "outputs": [
    {
     "data": {
      "image/png": "[encoded data removed]",
      "text/plain": [
       "<Figure size 640x480 with 1 Axes>"
      ]
     },
     "metadata": {},
     "output_type": "display_data"
    }
   ],
   "source": [
    "# Display the preprocessed image (use the normalized image)\n",
    "plt.subplot(1, 2, 2)\n",
    "plt.imshow(img_normalized, cmap='gray')  # Use img_normalized for visualization\n",
    "plt.title(\"Preprocessed Image\")\n",
    "plt.axis('off')\n",
    "\n",
    "plt.show()\n",
    "\n"
   ]
  },
  {
   "cell_type": "code",
   "execution_count": 55,
   "metadata": {},
   "outputs": [
    {
     "name": "stdout",
     "output_type": "stream",
     "text": [
      "\u001b[1m1/1\u001b[0m \u001b[32m━━━━━━━━━━━━━━━━━━━━\u001b[0m\u001b[37m\u001b[0m \u001b[1m0s\u001b[0m 19ms/step\n",
      "[1.6453568e-07 3.4148441e-04 9.9950588e-01 1.3911440e-04 4.5322722e-06\n",
      " 1.2237827e-10 5.2980727e-07 7.1074264e-06 1.2839416e-06 1.7563867e-08]\n",
      "Predicted Digit: 2\n"
     ]
    }
   ],
   "source": [
    "# Load the trained model\n",
    "# model = tf.keras.models.load_model('../models/model.h5')  # Adjust the path as necessary\n",
    "# Prepare for prediction\n",
    "img_reshaped = img_normalized.reshape(1, 28, 28, 1)  # Reshape for model input\n",
    "\n",
    "# Predict the digit\n",
    "predictions = model.predict(img_reshaped)\n",
    "predicted_digit = np.argmax(predictions[0])\n",
    "\n",
    "# Show the prediction\n",
    "print(predictions[0])\n",
    "print(f\"Predicted Digit: {predicted_digit}\")\n",
    "\n"
   ]
  },
  {
   "cell_type": "code",
   "execution_count": 56,
   "metadata": {},
   "outputs": [
    {
     "name": "stdout",
     "output_type": "stream",
     "text": [
      "\u001b[1m1/1\u001b[0m \u001b[32m━━━━━━━━━━━━━━━━━━━━\u001b[0m\u001b[37m\u001b[0m \u001b[1m0s\u001b[0m 19ms/step\n",
      "Prediction probabilities: [1.6453568e-07 3.4148441e-04 9.9950588e-01 1.3911440e-04 4.5322722e-06\n",
      " 1.2237827e-10 5.2980727e-07 7.1074264e-06 1.2839416e-06 1.7563867e-08]\n",
      "Predicted Digit: 2\n"
     ]
    },
    {
     "data": {
      "image/png": "[encoded data removed]",
      "text/plain": [
       "<Figure size 640x480 with 1 Axes>"
      ]
     },
     "metadata": {},
     "output_type": "display_data"
    }
   ],
   "source": [
    "# Assuming img_reshaped is already prepared\n",
    "predictions = model.predict(img_reshaped)\n",
    "\n",
    "# Print the prediction probabilities\n",
    "print(\"Prediction probabilities:\", predictions[0])\n",
    "\n",
    "# Get the predicted digit\n",
    "predicted_digit = np.argmax(predictions[0])\n",
    "print(f\"Predicted Digit: {predicted_digit}\")\n",
    "\n",
    "# Optionally visualize the prediction as a bar chart\n",
    "import matplotlib.pyplot as plt\n",
    "\n",
    "plt.bar(range(10), predictions[0])\n",
    "plt.xlabel('Digits')\n",
    "plt.ylabel('Probability')\n",
    "plt.title('Prediction Probabilities')\n",
    "plt.xticks(range(10))\n",
    "plt.show()\n"
   ]
  },
  {
   "cell_type": "code",
   "execution_count": null,
   "metadata": {},
   "outputs": [],
   "source": []
  },
  {
   "cell_type": "code",
   "execution_count": null,
   "metadata": {},
   "outputs": [],
   "source": []
  }
 ],
 "metadata": {
  "kernelspec": {
   "display_name": "Python 3",
   "language": "python",
   "name": "python3"
  },
  "language_info": {
   "codemirror_mode": {
    "name": "ipython",
    "version": 3
   },
   "file_extension": ".py",
   "mimetype": "text/x-python",
   "name": "python",
   "nbconvert_exporter": "python",
   "pygments_lexer": "ipython3",
   "version": "3.10.0"
  }
 },
 "nbformat": 4,
 "nbformat_minor": 2
}
